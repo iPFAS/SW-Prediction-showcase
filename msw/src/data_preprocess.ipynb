{
 "cells": [
  {
   "cell_type": "code",
   "execution_count": 1,
   "metadata": {},
   "outputs": [],
   "source": [
    "import sys\n",
    "import os\n",
    "from pathlib import Path\n",
    "current_dir = os.getcwd()  \n",
    "project_root = os.path.dirname(current_dir)  \n",
    "sys.path.insert(0, project_root) \n",
    "import numpy as np\n",
    "import pandas as pd\n",
    "from src.data.data_preprocessor import DataPreprocessor\n",
    "from src.config.config import Config\n",
    "data_preprocessor = DataPreprocessor()"
   ]
  },
  {
   "cell_type": "code",
   "execution_count": 2,
   "metadata": {},
   "outputs": [],
   "source": [
    "\"\"\"加载1990-2022数据\"\"\"\n",
    "historical_df = pd.read_excel(\n",
    "    Config.FEATURE_CONFIG['historical_data_path'],\n",
    "    sheet_name=Config.FEATURE_CONFIG['historical_sheet'],\n",
    "    usecols=Config.FEATURE_CONFIG['usecols'] \n",
    ")\n",
    "\n",
    "\"\"\"执行完整处理流程\"\"\"\n",
    "# 第一阶段：处理历史数据\n",
    "all_countries_df = data_preprocessor.process_historical_data(historical_df)\n",
    "\n",
    "features_path = Path(Config.PATH_CONFIG['features_dir']) / 'global_features.csv'\n",
    "all_countries_df.to_csv(features_path, index=False)"
   ]
  },
  {
   "cell_type": "code",
   "execution_count": 3,
   "metadata": {},
   "outputs": [],
   "source": [
    "# 第二阶段：处理MSW数据\n",
    "\"\"\"加载包含MSW的目标数据\"\"\"\n",
    "msw_df = pd.read_excel(\n",
    "    Config.FEATURE_CONFIG['historical_msw_data_path'],\n",
    "    sheet_name=Config.FEATURE_CONFIG['historical_msw_sheet'],\n",
    "    usecols=Config.FEATURE_CONFIG['usecols'] + [Config.DATA_CONFIG['target_column']]\n",
    ")\n",
    "train_df, predict_df = data_preprocessor.merge_features(msw_df)"
   ]
  },
  {
   "cell_type": "code",
   "execution_count": 4,
   "metadata": {},
   "outputs": [],
   "source": [
    "# 保存最终数据集\n",
    "train_df.to_csv(\n",
    "    Path(Config.PATH_CONFIG['features_dir']) / 'training_data.csv', \n",
    "    index=False,\n",
    "    encoding='utf-8-sig'\n",
    ")\n",
    "predict_df.to_csv(\n",
    "    Path(Config.PATH_CONFIG['features_dir']) / 'prediction_data.csv', \n",
    "    index=False,\n",
    "    encoding='utf-8-sig'\n",
    ")"
   ]
  },
  {
   "cell_type": "code",
   "execution_count": 5,
   "metadata": {},
   "outputs": [],
   "source": [
    "\"\"\"加载2023-2050数据\"\"\"\n",
    "future_df = pd.read_excel(\n",
    "    Config.FEATURE_CONFIG['future_data_path'],\n",
    "    sheet_name=Config.FEATURE_CONFIG['future_sheet'],\n",
    "    usecols=Config.FEATURE_CONFIG['usecols']\n",
    ")\n",
    "\n",
    "\"\"\"加载1990-2022数据\"\"\"\n",
    "historical_df = pd.read_excel(\n",
    "    Config.FEATURE_CONFIG['historical_data_path'],\n",
    "    sheet_name=Config.FEATURE_CONFIG['historical_sheet'],\n",
    "    usecols=Config.FEATURE_CONFIG['usecols']\n",
    ")\n",
    "future_prediction_df = data_preprocessor.process_future_data(historical_df, future_df)\n",
    "\n",
    "# 保存最终数据集\n",
    "future_prediction_df.to_csv(\n",
    "    Path(Config.PATH_CONFIG['features_dir']) / 'future_prediction_data.csv', \n",
    "    index=False,\n",
    "    encoding='utf-8-sig'\n",
    ")"
   ]
  }
 ],
 "metadata": {
  "kernelspec": {
   "display_name": "pycaret3.0",
   "language": "python",
   "name": "python3"
  },
  "language_info": {
   "codemirror_mode": {
    "name": "ipython",
    "version": 3
   },
   "file_extension": ".py",
   "mimetype": "text/x-python",
   "name": "python",
   "nbconvert_exporter": "python",
   "pygments_lexer": "ipython3",
   "version": "3.8.20"
  }
 },
 "nbformat": 4,
 "nbformat_minor": 2
}
