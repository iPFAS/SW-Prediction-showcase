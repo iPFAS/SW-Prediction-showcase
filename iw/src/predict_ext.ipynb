{
 "cells": [
  {
   "cell_type": "code",
   "execution_count": 1,
   "metadata": {},
   "outputs": [],
   "source": [
    "import sys\n",
    "import os\n",
    "current_dir = os.getcwd()  \n",
    "project_root = os.path.dirname(current_dir)  \n",
    "sys.path.insert(0, project_root) \n",
    "import numpy as np\n",
    "import pandas as pd\n",
    "from pathlib import Path\n",
    "from pycaret.regression import load_model, predict_model\n",
    "from src.config.config import Config\n",
    "from src.data.data_loader import DataLoader\n",
    "from src.visualization.visualizer import Visualizer\n",
    "\n",
    "def predict_extdata(test_data: pd.DataFrame, model_path: str):\n",
    "    \"\"\"预测测试集结果并返回评估指标\n",
    "\n",
    "    Args:\n",
    "        test_data: 测试数据集\n",
    "        model_path: 模型文件路径\n",
    "        test_type: 测试类型，'country' 或 'time'\n",
    "\n",
    "    Returns:\n",
    "        dict: 包含预测结果和评估指标的字典\n",
    "    \"\"\"\n",
    "    target_column = Config.DATA_CONFIG['target_column']\n",
    "    method = Config.FEATURE_CONFIG['target_transform_method']\n",
    "    transformed_column = f'{target_column}_{method}'\n",
    "    target_column_pred = f'{target_column}_pred'\n",
    "\n",
    "    # 移除目标列和转换后的目标列\n",
    "    test_data = test_data.drop([target_column, transformed_column], axis=1, errors='ignore')\n",
    "\n",
    "    # 加载模型\n",
    "    model = load_model(model_path)\n",
    "    \n",
    "    # 预测\n",
    "    predictions = predict_model(model, data=test_data)\n",
    "\n",
    "    # 处理预测结果\n",
    "    test_results = predictions.copy()\n",
    "    test_results[target_column_pred] = np.expm1(predictions['prediction_label'])\n",
    "\n",
    "    return test_results"
   ]
  },
  {
   "cell_type": "code",
   "execution_count": 2,
   "metadata": {},
   "outputs": [
    {
     "name": "stdout",
     "output_type": "stream",
     "text": [
      "\n",
      " Application data set predictions:\n",
      "Transformation Pipeline and Model Successfully Loaded\n"
     ]
    }
   ],
   "source": [
    "df = pd.read_csv(Path(Config.PATH_CONFIG['features_dir'])  / 'prediction_data.csv')\n",
    "\n",
    "# 模型路径\n",
    "model_path = os.path.join(Config.PATH_CONFIG['models_dir'], 'gbr_250412_192557')\n",
    "\n",
    "# Predict application data set\n",
    "print('\\n Application data set predictions:')\n",
    "results = predict_extdata(df, model_path)"
   ]
  },
  {
   "cell_type": "code",
   "execution_count": 3,
   "metadata": {},
   "outputs": [
    {
     "name": "stdout",
     "output_type": "stream",
     "text": [
      "预测结果已保存至: e:\\code\\jupyter\\固废产生\\SW-Prediction\\iw\\src\\results\\prediction\\iw_predictions_120425_194829.csv\n"
     ]
    }
   ],
   "source": [
    "# 确保预测结果目录存在\n",
    "prediction_dir = Path(Config.PATH_CONFIG['prediction_dir'])\n",
    "prediction_dir.mkdir(parents=True, exist_ok=True)\n",
    "\n",
    "# 生成文件名（使用当前时间戳）\n",
    "from datetime import datetime\n",
    "timestamp = datetime.now().strftime('%d%m%y_%H%M%S')\n",
    "output_file = prediction_dir / f'iw_predictions_{timestamp}.csv'\n",
    "\n",
    "# 保存预测结果\n",
    "results.to_csv(output_file, index=False)\n",
    "print(f'预测结果已保存至: {output_file}')"
   ]
  }
 ],
 "metadata": {
  "kernelspec": {
   "display_name": "pycaret3.0",
   "language": "python",
   "name": "python3"
  },
  "language_info": {
   "codemirror_mode": {
    "name": "ipython",
    "version": 3
   },
   "file_extension": ".py",
   "mimetype": "text/x-python",
   "name": "python",
   "nbconvert_exporter": "python",
   "pygments_lexer": "ipython3",
   "version": "3.8.20"
  }
 },
 "nbformat": 4,
 "nbformat_minor": 2
}
